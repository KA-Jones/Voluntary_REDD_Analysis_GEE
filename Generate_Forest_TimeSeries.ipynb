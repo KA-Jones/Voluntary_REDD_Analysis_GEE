{
  "nbformat": 4,
  "nbformat_minor": 0,
  "metadata": {
    "anaconda-cloud": {},
    "kernelspec": {
      "display_name": "Python 3",
      "language": "python",
      "name": "python3"
    },
    "language_info": {
      "codemirror_mode": {
        "name": "ipython",
        "version": 3
      },
      "file_extension": ".py",
      "mimetype": "text/x-python",
      "name": "python",
      "nbconvert_exporter": "python",
      "pygments_lexer": "ipython3",
      "version": "3.7.3"
    },
    "colab": {
      "name": "Generate_Forest_TimeSeries.ipynb",
      "provenance": [],
      "collapsed_sections": [],
      "include_colab_link": true
    }
  },
  "cells": [
    {
      "cell_type": "markdown",
      "metadata": {
        "id": "view-in-github",
        "colab_type": "text"
      },
      "source": [
        "<a href=\"https://colab.research.google.com/github/KA-Jones/Voluntary_REDD_Analysis_GEE/blob/master/Generate_Forest_TimeSeries.ipynb\" target=\"_parent\"><img src=\"https://colab.research.google.com/assets/colab-badge.svg\" alt=\"Open In Colab\"/></a>"
      ]
    },
    {
      "cell_type": "markdown",
      "metadata": {
        "id": "dJt79Gd2UEEI"
      },
      "source": [
        "# Voluntary REDD Analysis (Google Earth Engine)\n",
        "\n",
        "Generate annual time series measuring forest coverage in for all municipalities in the Brazilian Amazon. Annual land use/cover classifications from [MapBiomas](https://mapbiomas.org/) provide data between 1985 and 2019 using the Collection 5 dataset.\n",
        "\n",
        "\n",
        "\n",
        "Developed by K.A. Jones, Department of Geography, San Diego State University\n",
        "\n",
        "\n",
        "Based on Voluntary REDD Analysis developed by T. West.\n",
        "[Github](https://github.com/thaleswest/Voluntary-REDD-analysis)\n",
        "\n",
        "---\n",
        "\n",
        "# Part 2. Generate Forest Time Series\n",
        "\n",
        "###**Input:** Image Asset (Step 1) saved to Earth Engine Assets\n",
        "\n",
        "###**Output:** One image corrected for probited land cover transitions\n",
        "\n",
        "**REQUIRED:**\n",
        "\n",
        "You must complete [PART 1: Data Processing](https://github.com/KA-Jones/Voluntary_REDD_Analysis_GEE/blob/master/Create_Annual_Forest_Asset.ipynb) before generating forest coverage time series.\n",
        "\n",
        "-OR-\n",
        "\n",
        "Have access to a previous Image Asset created as the result of using PART 1: Data Processing."
      ]
    },
    {
      "cell_type": "markdown",
      "metadata": {
        "id": "DRehBZ6sEFKq"
      },
      "source": [
        "### Install Earth Engine API\n",
        "Install the [Earth Engine Python API](https://developers.google.com/earth-engine/python_install) and [geehydro](https://github.com/giswqs/geehydro).\n",
        "\n",
        "If you need to visualize intermediate or final results, uncomment install of `geehydro`. The **geehydro** Python package builds on the [folium](https://github.com/python-visualization/folium) package and implements several methods for displaying Earth Engine data layers, such as `Map.addLayer()`, `Map.setCenter()`, `Map.centerObject()`, and `Map.setOptions()`.\n",
        "\n",
        "***Uncomment these lines if you are running this notebook for the first time.***"
      ]
    },
    {
      "cell_type": "code",
      "metadata": {
        "id": "k-3-U6bPEOza"
      },
      "source": [
        "# !pip install earthengine-api\n",
        "# !pip install geehydro"
      ],
      "execution_count": null,
      "outputs": []
    },
    {
      "cell_type": "markdown",
      "metadata": {
        "id": "Idsv8mohyhFf"
      },
      "source": [
        "###Import Earth Engine (ee), Authenticate, and initialize Earth Engine API\n",
        "You only need to authenticate the Earth Engine API once. Uncomment the line `ee.Authenticate()` \n",
        "if you are running this notebook for the first time or if you are getting an authentication error. \n",
        "\n",
        "Uncomment lines to import foluim and geehydro if needing to visualize output."
      ]
    },
    {
      "cell_type": "code",
      "metadata": {
        "id": "s7S1xLLnyhFg"
      },
      "source": [
        "import ee\n",
        "# import folium\n",
        "# import geehydro\n",
        "\n",
        "ee.Authenticate()\n",
        "ee.Initialize()"
      ],
      "execution_count": null,
      "outputs": []
    },
    {
      "cell_type": "markdown",
      "metadata": {
        "id": "4FUVF0ZvyhFp"
      },
      "source": [
        "### Define study years and import datasets.\n",
        "Input: \n",
        "\n",
        "1.   Start and End Study Years (Collection 4: 1985-2018 & Collection 5: 1985-2019)\n",
        "2.   Access to Image Asset from Part 1: Data Processing (e.g. `REDD_MapBiomas_Col5_85_19`) \n",
        "3.   2015 Municipal boundaries in the Brazilian Amazon (808 total)\n"
      ]
    },
    {
      "cell_type": "code",
      "metadata": {
        "id": "RwtwVUNyyhFq"
      },
      "source": [
        "## Define Study Years. Start Year and End Year (int)\n",
        "startDate = 1985\n",
        "endDate = 2019\n",
        "\n",
        "## Define Year of Municipal Boundaries (string)\n",
        "## Available annual boundaries: 2000, 2001, 2005, 2007, 2010, 2013, 2014, 2015\n",
        "municipal_year = '2015'\n",
        "\n",
        "\n",
        "## Load data\n",
        "REDD_landcover = ee.Image('projects/Biggs-Lab/REDD_MapBiomas_Col5_85_19')  ## Created from MapBiomas Collection 5 (1985-2019)\n",
        "municipalities = ee.FeatureCollection('projects/Biggs-Lab/Amazon_Municip_'+municipal_year)\n",
        "\n",
        "\n",
        "# ## Uncomment ONLY IF performing analysis on municipalities in a specific Brazilian state, enter the corresponding state code.\n",
        "# ## This value corresponds to the first two digits for a given municipality (e.g. '11' = Rondonia)\n",
        "\n",
        "# ## Define State Code (string)\n",
        "# state_code = 11\n",
        "\n",
        "# ## Filter municipalities layer by municipalities in a given state.\n",
        "# municip_table = municipalities.filterMetadata('STATE_CODE', 'equals', state_code)"
      ],
      "execution_count": null,
      "outputs": []
    },
    {
      "cell_type": "markdown",
      "metadata": {
        "id": "iwEskG01ojyv"
      },
      "source": [
        "### Define Functions"
      ]
    },
    {
      "cell_type": "code",
      "metadata": {
        "id": "V6y19TfqopCc"
      },
      "source": [
        "## Applied in Step 1\n",
        "def reclass_img_to_col(yr):\n",
        "  \"\"\"Function 'reclass_img_to_col' creates one annual image for each study year using the original\n",
        "  MapBiomas landcover image. Pixel values in each annual image are reclassified from the MapBiomas\n",
        "  categories to new landcover categories: forest, non-forest, water, and cloud/NA.\"\"\"\n",
        "  year = ee.Number(yr)\n",
        "  class_yr = ee.String('Landcover_').cat(year.format(\"%d\"))\n",
        "  img = REDD_landcover.select(class_yr)\n",
        "  img = img.set('YearID', year.format(\"%d\"))    # Add new metadata property 'YearID' to be used in filtering collection or identify images by year\n",
        "  img = img.set('date', year)                   # Add new metadata property 'date' to be used in filtering collection or identify images by year\n",
        "  return img\n",
        "\n",
        "\n",
        "\n",
        "## Applied in Step 2\n",
        "def get_area(image):\n",
        "    \"\"\"Function 'get_area' computes the area (km2) of forest pixels in each image outside of\n",
        "    reduce_region function so the process does not need to be repeated each time a new\n",
        "    feature is used within 'reduceRegion'.\"\"\"\n",
        "    area = image.eq(1).multiply(ee.Image.pixelArea().divide(1000000))\n",
        "    return area.copyProperties(image)\n",
        "\n",
        "\n",
        "\n",
        "## Applied in Step 3\n",
        "def reduce_regions(image):\n",
        "  \"\"\"Function 'reduce_regions' uses reduceRegions() with reducer: sum() to complute the\n",
        "  total area (km2) of forested pixels in each municipality feature\"\"\"\n",
        "  reduced = image.reduceRegions(collection = municip_table, reducer = ee.Reducer.sum(), scale = 30)\n",
        "  reduced = reduced.filter(ee.Filter.neq('sum', None))\n",
        "  reduced = reduced.map(lambda f: f.set('date', image.get('YearID')))\n",
        "  return reduced\n",
        "\n",
        "\n",
        "\n",
        "## Applied in Step 4 - Table Formatting (Triplets)\n",
        "def format(table, rowID, colID):\n",
        "  \"\"\"Function 'format' defines a 2D table of rowId x colId from a table of triplets.\"\"\"\n",
        "  ## Get a FeatureCollection with unique row IDs.\n",
        "  rows = table.distinct(rowID)\n",
        "  ## Join the table to the unique IDs to get a collection in which each feature stores a list of all features having a common row ID.\n",
        "  joined = ee.Join.saveAll('matches').apply(\n",
        "      primary = rows,\n",
        "      secondary = table,\n",
        "      condition = ee.Filter.equals(\n",
        "          leftField = rowID,\n",
        "          rightField = rowID\n",
        "      )\n",
        "  )\n",
        "  def unique_id(row):\n",
        "    values = ee.List(row.get('matches'))\n",
        "    def col_id_val(feat):\n",
        "      feature = ee.Feature(feat)\n",
        "      id_val = [feature.get(colID), feature.get('sum')]\n",
        "      return id_val\n",
        "    values = values.map(col_id_val)\n",
        "    return row.select([rowID]).set(ee.Dictionary(values.flatten())) \n",
        "  return joined.map(unique_id)\n",
        "\n",
        "\n",
        "\n",
        "## Applied in Step 5\n",
        "def add_properties(feature):\n",
        "  \"\"\"Function 'add_properties' adds the metadata properties of the original municipality feature collection to output\n",
        "  table based on the shared CD_GEOCMU id. The metadata properties are lost during joins and some mapped operations.\"\"\"\n",
        "  id = feature.get('CD_GEOCMU')\n",
        "  match_munic = ee.Feature(municip_table.filterMetadata('CD_GEOCMU','equals',id).first())\n",
        "  return feature.copyProperties(match_munic)\n",
        "\n",
        "\n",
        "def update_properties(feature):\n",
        "  old_names = feature.propertyNames()\n",
        "  new_names = ['area_km2', 'municipal_name', 'state', 'municipal_code', 'state_code', 'system:index'] + [str(int) for int in list(range(startDate, (endDate+1)))]\n",
        "  return feature.select(old_names, new_names)"
      ],
      "execution_count": null,
      "outputs": []
    },
    {
      "cell_type": "markdown",
      "metadata": {
        "id": "KpuP80E7Lxbw"
      },
      "source": [
        "### Create an image collection from the REDD_landcover image asset"
      ]
    },
    {
      "cell_type": "code",
      "metadata": {
        "id": "WC6wtU15oem0"
      },
      "source": [
        "## Reclassify the original MapBiomas land cover classes for years 1985 - 2019\n",
        "## Input: REDD_landcover\n",
        "\n",
        "## Create list of study years to map over\n",
        "years_list = ee.List.sequence(startDate, endDate)\n",
        "\n",
        "###------###\n",
        "## Step 1. Create image collection from band names\n",
        "image_col = ee.ImageCollection.fromImages(ee.List(years_list.map(reclass_img_to_col)))\n",
        "\n",
        "\n",
        "###------###\n",
        "## Step 2. Apply function 'get_area' to compute forest coverage in km2.\n",
        "final_col_area = image_col.map(get_area)\n",
        "\n",
        "\n",
        "###------###\n",
        "## Step 3. Sum the area of forest in each municipality. Use reduceRegions() and map() over Image Collection.\n",
        "regions_result = final_col_area.map(reduce_regions)\n",
        "regions_result = regions_result.flatten()\n",
        "\n",
        "## Remove contents of '.geo' for clarity\n",
        "results_out = regions_result.select(['.*'], None, False)\n",
        "\n",
        "\n",
        "###------###\n",
        "## Step 4. Format a table of triplets to organize output (columns: year, rows: Municipality Code (CD_GEOCMU)).\n",
        "output_table = format(results_out, 'CD_GEOCMU', 'date');\n",
        "\n",
        "\n",
        "###------###\n",
        "## Step 5. Add original municipal properties to output table.\n",
        "output_table_props = output_table.map(add_properties)\n",
        "\n",
        "## Update property names\n",
        "output_table_final = output_table_props.map(update_properties)"
      ],
      "execution_count": null,
      "outputs": []
    },
    {
      "cell_type": "markdown",
      "metadata": {
        "id": "c-mXMOhg8b7d"
      },
      "source": [
        "### Export Results"
      ]
    },
    {
      "cell_type": "code",
      "metadata": {
        "id": "dihwreCMHH6p"
      },
      "source": [
        "## Define name of output and taskID:\n",
        "output_task_id = 'Contemp_Municip_'+municipal_year\n",
        "\n",
        "\n",
        "## Set export properites\n",
        "properties = {'driveFolder': 'RFF',  'driveFileNamePrefix': output_task_id+'_Y'+str(startDate)+'_'+str(endDate), 'fileFormat': 'CSV'}\n",
        "\n",
        "## Define the task in Python\n",
        "task = ee.batch.Export.table(output_table_final, output_task_id+'_Y'+str(startDate)+'_'+str(endDate), properties)\n",
        "\n",
        "\n",
        "# ## Uncomment if running for specific state (state code will populate file name)\n",
        "# ## Set export properites\n",
        "# properties = {'driveFolder': 'RFF',  'driveFileNamePrefix': output_task_id+state_code+'_Y'+str(startDate)+'_'+str(endDate), 'fileFormat': 'CSV'}\n",
        "\n",
        "# ## Define the task in Python\n",
        "# task = ee.batch.Export.table(output_table, output_task_id+str(state_code)+'_Y'+str(startDate)+'_'+str(endDate), properties)\n",
        "\n",
        "\n",
        "## Start the task, equivalent to hit the \"run\" button in the editor\n",
        "task.start()"
      ],
      "execution_count": null,
      "outputs": []
    },
    {
      "cell_type": "markdown",
      "metadata": {
        "id": "S7a0XPV_EVSK"
      },
      "source": [
        "### Create an interactive map to visualize results (Optional)\n",
        "This step creates an interactive map using [folium](https://github.com/python-visualization/folium). The default basemap is the OpenStreetMap. Additional basemaps can be added using the `Map.setOptions()` function. \n",
        "The optional basemaps can be `ROADMAP`, `SATELLITE`, `HYBRID`, `TERRAIN`, or `ESRI`."
      ]
    },
    {
      "cell_type": "code",
      "metadata": {
        "id": "RwKCkxokSMXU"
      },
      "source": [
        "## Set 'viz_layer' equal to desired image for visualization.\n",
        "viz_layer = ee.Image(image_col.filterMetadata('date','equals',2000).first())\n",
        "\n",
        "## Set starting location to center on Rhondonia\n",
        "Map = folium.Map(location=[-11, -63], zoom_start=6)\n",
        "Map.setOptions('ROADMAP')\n",
        "\n",
        "## Set visualization parameters.\n",
        "vis_params = {\n",
        "  'min': 0,\n",
        "  'max': 4,\n",
        "  'palette': ['000000', '76B37F', 'F0E5AA', '03A5FC', 'FC03DB']}  #[Black, Olive, Beige, Blue, Fuchsia]\n",
        "\n",
        "\n",
        "## Add selected layer to map.\n",
        "Map.addLayer(test, vis_params, 'Landcover')\n",
        "Map.setControlVisibility(layerControl=True, fullscreenControl=True, latLngPopup=True)\n",
        "Map"
      ],
      "execution_count": null,
      "outputs": []
    }
  ]
}